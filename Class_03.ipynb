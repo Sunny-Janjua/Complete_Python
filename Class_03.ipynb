{
  "nbformat": 4,
  "nbformat_minor": 0,
  "metadata": {
    "colab": {
      "provenance": [],
      "authorship_tag": "ABX9TyPWEFVefYV9mpkSRYMrkYWR",
      "include_colab_link": true
    },
    "kernelspec": {
      "name": "python3",
      "display_name": "Python 3"
    },
    "language_info": {
      "name": "python"
    }
  },
  "cells": [
    {
      "cell_type": "markdown",
      "metadata": {
        "id": "view-in-github",
        "colab_type": "text"
      },
      "source": [
        "<a href=\"https://colab.research.google.com/github/Sunny-Janjua/Complete_Python/blob/main/Class_03.ipynb\" target=\"_parent\"><img src=\"https://colab.research.google.com/assets/colab-badge.svg\" alt=\"Open In Colab\"/></a>"
      ]
    },
    {
      "cell_type": "code",
      "execution_count": 22,
      "metadata": {
        "colab": {
          "base_uri": "https://localhost:8080/"
        },
        "id": "zUvVDcEhsfsI",
        "outputId": "cad40c5b-d32f-4769-f5d1-d93c4efc521f"
      },
      "outputs": [
        {
          "output_type": "stream",
          "name": "stdout",
          "text": [
            "{'name': 'hussnain mulazam', 'rollNo': '124357'}\n",
            "hussnain mulazam\n",
            "{'name': 'John', 'age': 25, 'job': 'Developer'}\n",
            "{'name': 'John', 'job': 'Developer'}\n",
            "{}\n",
            "Alice\n",
            "Not specified\n",
            "dict_keys(['name', 'age', 'job'])\n",
            "dict_values(['Alice', 31, 'Engineer'])\n",
            "dict_items([('name', 'Alice'), ('age', 31), ('job', 'Engineer')])\n",
            "{}\n"
          ]
        }
      ],
      "source": [
        "student:dict[str]={\"name\":\"hussnain mulazam\" , \"rollNo\":\"124357\"}\n",
        "print(student)\n",
        "print(student[\"name\"])\n",
        "\n",
        "my_dict = {\n",
        "    \"name\": \"John\",\n",
        "    \"age\": 25,\n",
        "    \"job\": \"Developer\"\n",
        "}\n",
        "print(my_dict)\n",
        "\n",
        "my_dict.get(\"age\")\n",
        "my_dict.get(\"sunny\" , 0)\n",
        "\n",
        "my_dict.keys()\n",
        "my_dict.values()\n",
        "my_dict.items()\n",
        "\n",
        "my_dict.pop(\"age\")\n",
        "print(my_dict)\n",
        "\n",
        "my_dict.clear()\n",
        "\n",
        "print(my_dict)\n",
        "\n",
        "# Creating a dictionary\n",
        "person = {\n",
        "    \"name\": \"Alice\",\n",
        "    \"age\": 30,\n",
        "    \"city\": \"New York\"\n",
        "}\n",
        "\n",
        "# Accessing values\n",
        "print(person[\"name\"])  # Output: Alice\n",
        "\n",
        "# Using .get() to avoid KeyError\n",
        "print(person.get(\"job\", \"Not specified\"))  # Output: Not specified\n",
        "\n",
        "# Adding and updating a value\n",
        "person[\"job\"] = \"Engineer\"\n",
        "person.update({\"age\": 31})\n",
        "\n",
        "# Removing a key-value pair\n",
        "person.pop(\"city\")\n",
        "\n",
        "# Viewing dictionary keys, values, and items\n",
        "print(person.keys())    # Output: dict_keys(['name', 'age', 'job'])\n",
        "print(person.values())  # Output: dict_values(['Alice', 31, 'Engineer'])\n",
        "print(person.items())   # Output: dict_items([('name', 'Alice'), ('age', 31), ('job', 'Engineer')])\n",
        "\n",
        "# Clearing all dictionary elements\n",
        "person.clear()\n",
        "print(person)  # Output: {}\n",
        "\n"
      ]
    }
  ]
}