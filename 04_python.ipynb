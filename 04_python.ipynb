{
  "nbformat": 4,
  "nbformat_minor": 0,
  "metadata": {
    "colab": {
      "provenance": [],
      "authorship_tag": "ABX9TyO2kTb+nMBOvpLI263adzvN",
      "include_colab_link": true
    },
    "kernelspec": {
      "name": "python3",
      "display_name": "Python 3"
    },
    "language_info": {
      "name": "python"
    }
  },
  "cells": [
    {
      "cell_type": "markdown",
      "metadata": {
        "id": "view-in-github",
        "colab_type": "text"
      },
      "source": [
        "<a href=\"https://colab.research.google.com/github/Sunny-Janjua/Complete_Python/blob/main/04_python.ipynb\" target=\"_parent\"><img src=\"https://colab.research.google.com/assets/colab-badge.svg\" alt=\"Open In Colab\"/></a>"
      ]
    },
    {
      "cell_type": "code",
      "execution_count": 1,
      "metadata": {
        "colab": {
          "base_uri": "https://localhost:8080/"
        },
        "id": "xMBQ8vs6p2OE",
        "outputId": "7af1491f-2762-4909-9aba-3a1ffcfec5f8"
      },
      "outputs": [
        {
          "output_type": "execute_result",
          "data": {
            "text/plain": [
              "{'length': 17,\n",
              " 'first_char': 'H',\n",
              " 'last_char': '3',\n",
              " 'is_empty': False,\n",
              " 'is_alphanumeric': False,\n",
              " 'is_alphabetical': False,\n",
              " 'is_numeric': False,\n",
              " 'uppercase_count': 2,\n",
              " 'lowercase_count': 8,\n",
              " 'unique_chars': {' ',\n",
              "  '!',\n",
              "  ',',\n",
              "  '1',\n",
              "  '2',\n",
              "  '3',\n",
              "  'H',\n",
              "  'W',\n",
              "  'd',\n",
              "  'e',\n",
              "  'l',\n",
              "  'o',\n",
              "  'r'}}"
            ]
          },
          "metadata": {},
          "execution_count": 1
        }
      ],
      "source": [
        "# prompt: make string overview\n",
        "\n",
        "def string_overview(input_string):\n",
        "    \"\"\"Provides an overview of a given string.\n",
        "\n",
        "    Args:\n",
        "        input_string: The string to analyze.\n",
        "\n",
        "    Returns:\n",
        "        A dictionary containing:\n",
        "        - length: The length of the string.\n",
        "        - first_char: The first character of the string (or None if empty).\n",
        "        - last_char: The last character of the string (or None if empty).\n",
        "        - is_empty: True if the string is empty, False otherwise.\n",
        "        - is_alphanumeric: True if all characters are alphanumeric, False otherwise.\n",
        "        - is_alphabetical: True if all characters are alphabetic, False otherwise.\n",
        "        - is_numeric: True if all characters are numeric, False otherwise.\n",
        "        - uppercase_count: Number of uppercase letters.\n",
        "        - lowercase_count: Number of lowercase letters.\n",
        "        - unique_chars: A set of unique characters.\n",
        "    \"\"\"\n",
        "\n",
        "\n",
        "    overview = {}\n",
        "    overview[\"length\"] = len(input_string)\n",
        "\n",
        "    if input_string:\n",
        "      overview[\"first_char\"] = input_string[0]\n",
        "      overview[\"last_char\"] = input_string[-1]\n",
        "    else:\n",
        "      overview[\"first_char\"] = None\n",
        "      overview[\"last_char\"] = None\n",
        "\n",
        "    overview[\"is_empty\"] = len(input_string) == 0\n",
        "    overview[\"is_alphanumeric\"] = input_string.isalnum()\n",
        "    overview[\"is_alphabetical\"] = input_string.isalpha()\n",
        "    overview[\"is_numeric\"] = input_string.isnumeric()\n",
        "\n",
        "    overview[\"uppercase_count\"] = sum(1 for char in input_string if char.isupper())\n",
        "    overview[\"lowercase_count\"] = sum(1 for char in input_string if char.islower())\n",
        "    overview[\"unique_chars\"] = set(input_string)\n",
        "\n",
        "    return overview\n",
        "\n",
        "# Example usage:\n",
        "my_string = \"Hello, World! 123\"\n",
        "string_info = string_overview(my_string)\n",
        "string_info"
      ]
    }
  ]
}