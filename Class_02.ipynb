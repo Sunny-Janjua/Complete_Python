{
  "nbformat": 4,
  "nbformat_minor": 0,
  "metadata": {
    "colab": {
      "provenance": [],
      "authorship_tag": "ABX9TyMZgl+ngDlZvdhVKsrHF/6S",
      "include_colab_link": true
    },
    "kernelspec": {
      "name": "python3",
      "display_name": "Python 3"
    },
    "language_info": {
      "name": "python"
    }
  },
  "cells": [
    {
      "cell_type": "markdown",
      "metadata": {
        "id": "view-in-github",
        "colab_type": "text"
      },
      "source": [
        "<a href=\"https://colab.research.google.com/github/Sunny-Janjua/Complete_Python/blob/main/Class_02.ipynb\" target=\"_parent\"><img src=\"https://colab.research.google.com/assets/colab-badge.svg\" alt=\"Open In Colab\"/></a>"
      ]
    },
    {
      "cell_type": "code",
      "execution_count": 1,
      "metadata": {
        "colab": {
          "base_uri": "https://localhost:8080/"
        },
        "id": "Xy8-L6us2M_y",
        "outputId": "4ea1d5dd-4b28-4d5b-b70d-bb271475c073"
      },
      "outputs": [
        {
          "output_type": "stream",
          "name": "stdout",
          "text": [
            "ALICE\n",
            "alice\n",
            "Alice\n",
            "Elice\n",
            "['Hello,', 'World!']\n",
            "Hello\n",
            "7\n",
            "Hello World\n",
            "3\n",
            "[5, 4, 3, 2, 1]\n",
            "2\n",
            "2\n",
            "25\n",
            "dict_keys(['name', 'age'])\n",
            "dict_values(['Alice', 25])\n",
            "dict_items([('name', 'Alice'), ('age', 25)])\n",
            "{'name': 'Alice', 'age': 25, 'city': 'New York'}\n",
            "{'name': 'Alice', 'city': 'New York'}\n",
            "{1, 3, 4}\n",
            "{1, 3, 4, 5}\n",
            "{3, 4}\n",
            "['Python', 'is', 'fun!', 'Really!']\n",
            "[1, 2, 5, 9]\n",
            "2\n",
            "{'name': 'Bob', 'grade': 'A', 'age': 20}\n",
            "{104, 101, 102, 103}\n"
          ]
        }
      ],
      "source": [
        "# --- String Methods ---\n",
        "name = \"Alice\"\n",
        "print(name.upper())           # \"ALICE\"\n",
        "print(name.lower())           # \"alice\"\n",
        "print(name.capitalize())      # \"Alice\"\n",
        "print(name.replace(\"A\", \"E\")) # \"Elice\"\n",
        "sentence = \"Hello, World!\"\n",
        "print(sentence.split())       # ['Hello,', 'World!']\n",
        "text = \"  Hello  \"\n",
        "print(text.strip())           # \"Hello\"\n",
        "print(sentence.find(\"World\")) # 7\n",
        "words = [\"Hello\", \"World\"]\n",
        "print(\" \".join(words))        # \"Hello World\"\n",
        "\n",
        "# --- List Methods ---\n",
        "my_list = [1, 2, 3]\n",
        "my_list.append(4)             # [1, 2, 3, 4]\n",
        "my_list.insert(1, \"new\")      # [1, \"new\", 2, 3, 4]\n",
        "my_list.extend([5, 6])        # [1, \"new\", 2, 3, 4, 5, 6]\n",
        "my_list.remove(\"new\")         # [1, 2, 3, 4, 5, 6]\n",
        "my_list.pop()                 # Removes 6, result is [1, 2, 3, 4, 5]\n",
        "my_list.sort()                # [1, 2, 3, 4, 5]\n",
        "my_list.reverse()             # [5, 4, 3, 2, 1]\n",
        "print(my_list.index(2))       # 3\n",
        "print(my_list)                # [5, 4, 3, 2, 1]\n",
        "\n",
        "# --- Tuple Methods ---\n",
        "my_tuple = (1, 2, 3, 2, 4)\n",
        "print(my_tuple.count(2))      # 2\n",
        "print(my_tuple.index(3))      # 2\n",
        "\n",
        "# --- Dictionary Methods ---\n",
        "my_dict = {\"name\": \"Alice\", \"age\": 25}\n",
        "print(my_dict.get(\"age\"))     # 25\n",
        "print(my_dict.keys())         # dict_keys(['name', 'age'])\n",
        "print(my_dict.values())       # dict_values(['Alice', 25])\n",
        "print(my_dict.items())        # dict_items([('name', 'Alice'), ('age', 25)])\n",
        "my_dict.update({\"city\": \"New York\"})\n",
        "print(my_dict)                # {'name': 'Alice', 'age': 25, 'city': 'New York'}\n",
        "my_dict.pop(\"age\")            # Removes 'age', returns 25\n",
        "print(my_dict)                # {'name': 'Alice', 'city': 'New York'}\n",
        "\n",
        "# --- Set Methods ---\n",
        "my_set = {1, 2, 3}\n",
        "my_set.add(4)                 # {1, 2, 3, 4}\n",
        "my_set.remove(2)              # {1, 3, 4}\n",
        "my_set.discard(5)             # No error if 5 is not found\n",
        "print(my_set)                 # {1, 3, 4}\n",
        "another_set = {3, 4, 5}\n",
        "print(my_set.union(another_set))        # {1, 3, 4, 5}\n",
        "print(my_set.intersection(another_set)) # {3, 4}\n",
        "\n",
        "# --- Combined Example ---\n",
        "# This combines different data types and their methods\n",
        "def combined_example():\n",
        "    sentence = \"  Python is fun!  \"\n",
        "    words = sentence.strip().split()\n",
        "    words.append(\"Really!\")\n",
        "    print(words)  # ['Python', 'is', 'fun!', 'Really!']\n",
        "\n",
        "    numbers = [5, 2, 9, 1]\n",
        "    numbers.sort()\n",
        "    print(numbers)  # [1, 2, 5, 9]\n",
        "\n",
        "    ages = (20, 22, 21, 20, 23)\n",
        "    print(ages.count(20))  # 2\n",
        "\n",
        "    student_info = {\"name\": \"Bob\", \"grade\": \"A\"}\n",
        "    student_info.update({\"age\": 20})\n",
        "    print(student_info)  # {'name': 'Bob', 'grade': 'A', 'age': 20}\n",
        "\n",
        "    ids_set = {101, 102, 103}\n",
        "    ids_set.add(104)\n",
        "    print(ids_set)  # {101, 102, 103, 104}\n",
        "\n",
        "combined_example()\n"
      ]
    }
  ]
}